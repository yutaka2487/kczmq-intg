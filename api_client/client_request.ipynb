{
 "cells": [
  {
   "cell_type": "code",
   "execution_count": 1,
   "id": "d2962057-42ad-4a6a-9550-fffab78c7724",
   "metadata": {},
   "outputs": [],
   "source": [
    "import requests\n",
    "from fastapi import Request, Response"
   ]
  },
  {
   "cell_type": "code",
   "execution_count": 2,
   "id": "b44af0a4-e1c9-4738-a64b-5cbd23bd0c62",
   "metadata": {},
   "outputs": [],
   "source": [
    "headers = {\n",
    "    \"X-Client-Id\" : \"client-proto\",\n",
    "    \"X-Client-Secret-Key\" : \"AdbObscdCOvKyatYlcPpOEx4MKDf2Rhj\",\n",
    "    #\"X-Client-Secret-Key\" : \"********************************\",\n",
    "}\n",
    "params = {\n",
    "    \"date_from\" : \"202201010000\",\n",
    "    \"date_to\" : \"202201310000\",\n",
    "    \"mesh_from\" : \"533946431\",\n",
    "    \"mesh_to\" : \"533946434\",\n",
    "}\n",
    "res = requests.post(\n",
    "    \"http://api_server:8000/hello\",\n",
    "    data = params,\n",
    "    headers = headers\n",
    ")"
   ]
  },
  {
   "cell_type": "code",
   "execution_count": 3,
   "id": "71b09c3b-a99f-45b6-87a2-57adbf3438ab",
   "metadata": {},
   "outputs": [
    {
     "name": "stdout",
     "output_type": "stream",
     "text": [
      "status_code: 200, message: b'{\"message\":\"Hello World\"}'\n"
     ]
    }
   ],
   "source": [
    "print(\"status_code: %s, message: %s\" % (res.status_code, res.content))\n"
   ]
  }
 ],
 "metadata": {
  "kernelspec": {
   "display_name": "Python 3",
   "language": "python",
   "name": "python3"
  },
  "language_info": {
   "codemirror_mode": {
    "name": "ipython",
    "version": 3
   },
   "file_extension": ".py",
   "mimetype": "text/x-python",
   "name": "python",
   "nbconvert_exporter": "python",
   "pygments_lexer": "ipython3",
   "version": "3.9.7"
  }
 },
 "nbformat": 4,
 "nbformat_minor": 5
}
