{
 "cells": [
  {
   "cell_type": "code",
   "execution_count": 1,
   "id": "7dbc052a-6c15-4425-9e3f-aec0fb84ff92",
   "metadata": {},
   "outputs": [],
   "source": [
    "import zmq\n",
    "import zmq.auth"
   ]
  },
  {
   "cell_type": "markdown",
   "id": "1302dc86-35ee-49cf-ba20-47305866dda4",
   "metadata": {},
   "source": [
    "# クライアント鍵ペアの生成"
   ]
  },
  {
   "cell_type": "code",
   "execution_count": 2,
   "id": "bda36261-fcae-4700-8913-2e792b3d0dc7",
   "metadata": {},
   "outputs": [],
   "source": [
    "zmq.auth.create_certificates(\"./certificates\", \"client\")\n",
    "client_public, client_secret = zmq.auth.load_certificate(\"./certificates/client.key_secret\")"
   ]
  },
  {
   "cell_type": "markdown",
   "id": "3cc8a934-a1f5-439b-9024-ef26b878dd43",
   "metadata": {},
   "source": [
    "# データ取得＋サーバ側の公開鍵を用いて復号"
   ]
  },
  {
   "cell_type": "code",
   "execution_count": 3,
   "id": "7fbccf1e-2168-4f5d-a5f9-657acc6348ad",
   "metadata": {},
   "outputs": [],
   "source": [
    "ctx = zmq.Context.instance()\n",
    "\n",
    "# クライアント鍵をセット\n",
    "client = ctx.socket(zmq.PULL)\n",
    "client.curve_secretkey = client_secret\n",
    "client.curve_publickey = client_public\n",
    "\n",
    "# 復号用にサーバ側公開鍵をセット\n",
    "server_public, _ = zmq.auth.load_certificate(\"./certificates/server.key\")\n",
    "client.curve_serverkey = server_public\n",
    "client.connect('tcp://127.0.0.1:9000')\n",
    "\n"
   ]
  },
  {
   "cell_type": "code",
   "execution_count": 4,
   "id": "fb2a31e4-4361-4837-8f69-fb4f8ad77721",
   "metadata": {},
   "outputs": [
    {
     "data": {
      "text/plain": [
       "b'Hello World'"
      ]
     },
     "execution_count": 4,
     "metadata": {},
     "output_type": "execute_result"
    }
   ],
   "source": [
    "# データ取得＋復号\n",
    "client.recv()"
   ]
  }
 ],
 "metadata": {
  "kernelspec": {
   "display_name": "Python 3",
   "language": "python",
   "name": "python3"
  },
  "language_info": {
   "codemirror_mode": {
    "name": "ipython",
    "version": 3
   },
   "file_extension": ".py",
   "mimetype": "text/x-python",
   "name": "python",
   "nbconvert_exporter": "python",
   "pygments_lexer": "ipython3",
   "version": "3.9.7"
  }
 },
 "nbformat": 4,
 "nbformat_minor": 5
}
