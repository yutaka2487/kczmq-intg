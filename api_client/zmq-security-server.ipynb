{
 "cells": [
  {
   "cell_type": "code",
   "execution_count": 1,
   "id": "de6f1e90-e4ab-4793-853c-0f5f3bc4e1b6",
   "metadata": {},
   "outputs": [],
   "source": [
    "import zmq\n",
    "import zmq.auth\n",
    "from zmq.auth.thread import ThreadAuthenticator"
   ]
  },
  {
   "cell_type": "markdown",
   "id": "d6666516-c329-483b-bcc1-3a41dc242d89",
   "metadata": {},
   "source": [
    "# サーバ鍵ペアの生成"
   ]
  },
  {
   "cell_type": "code",
   "execution_count": 2,
   "id": "768ddb08-3252-4850-8832-45b2934dba7e",
   "metadata": {},
   "outputs": [],
   "source": [
    "zmq.auth.create_certificates(\"./certificates\", \"server\")\n",
    "server_public, server_secret = zmq.auth.load_certificate(\"./certificates/server.key_secret\")"
   ]
  },
  {
   "cell_type": "markdown",
   "id": "012c4a2a-74a9-433c-9e59-005c403307a6",
   "metadata": {},
   "source": [
    "# 暗号化＋データ送信"
   ]
  },
  {
   "cell_type": "code",
   "execution_count": 3,
   "id": "86715ff1-c1ff-41e2-a886-31aca9570600",
   "metadata": {},
   "outputs": [],
   "source": [
    "ctx = zmq.Context.instance()\n",
    "\n",
    "# CurveZMQ利用\n",
    "auth = ThreadAuthenticator(ctx)\n",
    "auth.start()\n",
    "auth.allow('127.0.0.1')\n",
    "auth.configure_curve(domain='*', location=zmq.auth.CURVE_ALLOW_ANY)\n",
    "\n",
    "# サーバ鍵をセット\n",
    "server = ctx.socket(zmq.PUSH)\n",
    "server.curve_secretkey = server_secret\n",
    "server.curve_publickey = server_public\n",
    "server.curve_server = True  # must come before bind\n",
    "server.bind('tcp://*:9000')\n",
    "\n"
   ]
  },
  {
   "cell_type": "code",
   "execution_count": 4,
   "id": "352fb3b2-2d12-4c13-a562-38ecef781682",
   "metadata": {},
   "outputs": [],
   "source": [
    "# 暗号化＋データ送信\n",
    "server.send(b\"Hello World\")"
   ]
  }
 ],
 "metadata": {
  "kernelspec": {
   "display_name": "Python 3",
   "language": "python",
   "name": "python3"
  },
  "language_info": {
   "codemirror_mode": {
    "name": "ipython",
    "version": 3
   },
   "file_extension": ".py",
   "mimetype": "text/x-python",
   "name": "python",
   "nbconvert_exporter": "python",
   "pygments_lexer": "ipython3",
   "version": "3.9.7"
  }
 },
 "nbformat": 4,
 "nbformat_minor": 5
}
